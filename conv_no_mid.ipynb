{
 "cells": [
  {
   "cell_type": "code",
   "execution_count": 2,
   "metadata": {
    "collapsed": true
   },
   "outputs": [],
   "source": [
    "import tensorflow as tf\n",
    "\n",
    "from lowpass import lowpass\n",
    "from runner import run\n",
    "from test import run_test"
   ]
  },
  {
   "cell_type": "code",
   "execution_count": 7,
   "metadata": {
    "collapsed": false
   },
   "outputs": [],
   "source": [
    "def gen_conv_no_mid(layer_width, filter_size):\n",
    "    std = 0.1\n",
    "    alpha = 0.00001\n",
    "\n",
    "    input_set, output_set, valid_in_batches, valid_out_batches, train_ref_std = lowpass()\n",
    "\n",
    "    # reshape with channels\n",
    "    input_set = input_set.reshape(-1, input_set.shape[1], 1)\n",
    "    output_set = output_set.reshape(-1, output_set.shape[1], 1)\n",
    "    valid_in_batches = valid_in_batches.reshape(-1, valid_in_batches.shape[1], 1)\n",
    "    valid_out_batches = valid_out_batches.reshape(-1, valid_out_batches.shape[1], 1)\n",
    "\n",
    "\n",
    "    ### GEN LAYERS\n",
    "    x = tf.placeholder(tf.float32, shape=[None, input_set.shape[1], 1], name='x')\n",
    "    x_4 = tf.expand_dims(x, 1)\n",
    "    y = tf.placeholder(tf.float32, shape=[None, output_set.shape[1], 1], name='y')\n",
    "    y_4 = tf.expand_dims(y, 1)\n",
    "\n",
    "    w0 = tf.Variable(tf.truncated_normal([1, filter_size, 1, layer_width], stddev=std), name='w0')\n",
    "    b0 = tf.Variable(tf.truncated_normal([layer_width], stddev=std), name='b0')\n",
    "    conv_0 = tf.nn.conv2d(\n",
    "        x_4,\n",
    "        w0,\n",
    "        strides=[1,1,1,1],\n",
    "        padding='SAME')\n",
    "    lay0 = conv_0 + b0\n",
    "    lay0 = tf.nn.relu(lay0)\n",
    "\n",
    "    # required b/c conv2d_transpose does not infer None sized object's sizes at runtime, but we can cheat like this\n",
    "    dyn_input_shape = tf.shape(x_4)\n",
    "    batch_size = dyn_input_shape[0]\n",
    "\n",
    "    w2 = tf.Variable(tf.truncated_normal([1, filter_size, 1, layer_width], stddev=std), name='w2')\n",
    "    b2 = tf.Variable(tf.truncated_normal([1, 1], stddev=std), name='b2')\n",
    "    conv_2 = tf.nn.conv2d_transpose(\n",
    "        lay0,\n",
    "        w2,\n",
    "        output_shape=tf.pack([batch_size, 1, output_set.shape[1], 1]),\n",
    "        strides=[1,1,1,1],\n",
    "        padding='SAME')\n",
    "    lay2 = conv_2 + b2\n",
    "\n",
    "\n",
    "    P = tf.squeeze(lay2) # drop size 1 dim (channels)\n",
    "\n",
    "    MSE = tf.reduce_mean(tf.square(lay2 - y_4))\n",
    "    L2 = alpha * (tf.nn.l2_loss(w0) + tf.nn.l2_loss(w2))\n",
    "\n",
    "    optimizer = tf.train.AdamOptimizer().minimize(MSE + L2)\n",
    "\n",
    "    global_step = tf.Variable(0, name='global_step', trainable=False)\n",
    "\n",
    "    saver = tf.train.Saver(\n",
    "        { \"w0\": w0,\n",
    "          \"b0\": b0,\n",
    "          \"w2\": w2,\n",
    "          \"b2\": b2,\n",
    "          \"global_step\": global_step})\n",
    "\n",
    "    return x, y, MSE, P, optimizer, global_step, saver, input_set, output_set, valid_in_batches, valid_out_batches, train_ref_std"
   ]
  },
  {
   "cell_type": "code",
   "execution_count": 11,
   "metadata": {
    "collapsed": true
   },
   "outputs": [],
   "source": [
    "def run_conv(hidden_width, filter_size, epochs, batch_size=50, save_dist=None):\n",
    "    # oh god what have I done\n",
    "    x, y, MSE, P, optimizer, global_step, saver, input_set, output_set, valid_in_batches, valid_out_batches, train_ref_std = gen_conv_no_mid(hidden_width, filter_size)\n",
    "    sess = tf.Session()\n",
    "    sess.run(tf.initialize_all_variables())\n",
    "    run(sess, x, y, MSE, P, optimizer, global_step, saver, input_set, output_set, valid_in_batches, valid_out_batches, train_ref_std, 'lowpass', 'convolution_no_middle', hidden_width, epochs, batch_size=batch_size, extra=filter_size, check_dist=save_dist)\n",
    "    return x, y, P, MSE, sess"
   ]
  },
  {
   "cell_type": "code",
   "execution_count": 12,
   "metadata": {
    "collapsed": false,
    "scrolled": false
   },
   "outputs": [
    {
     "name": "stdout",
     "output_type": "stream",
     "text": [
      "starting from epoch: 0\n",
      "\t                         mse                    rmse                                 std            \n",
      "\t        training  validation    training  validation    training  validation   reference     runtime\n",
      "..\n",
      "epoch:    2      0.00293     0.00375     0.05411     0.06125     0.05414     0.06109     0.11379         1.3 ..\n",
      "epoch:    4      0.00114     0.00181     0.03374     0.04250     0.03388     0.04251     0.11379         2.5 ..\n",
      "epoch:    6      0.00081     0.00137     0.02847     0.03707     0.02851     0.03703     0.11379         3.8 ..\n",
      "epoch:    8      0.00066     0.00116     0.02570     0.03408     0.02576     0.03408     0.11379         5.1 ..\n",
      "epoch:   10      0.00056     0.00101     0.02364     0.03172     0.02371     0.03172     0.11379         6.9 ..\n",
      "epoch:   12      0.00048     0.00088     0.02196     0.02969     0.02201     0.02968     0.11379         8.5 ..\n",
      "epoch:   14      0.00042     0.00078     0.02059     0.02798     0.02065     0.02798     0.11379         9.9 ..\n",
      "epoch:   16      0.00038     0.00070     0.01943     0.02647     0.01949     0.02648     0.11379        11.1 ..\n",
      "epoch:   18      0.00034     0.00064     0.01843     0.02523     0.01848     0.02524     0.11379        12.3 ..\n",
      "epoch:   20      0.00031     0.00058     0.01759     0.02406     0.01763     0.02406     0.11379        13.4 ..\n",
      "epoch:   22      0.00028     0.00053     0.01686     0.02313     0.01689     0.02313     0.11379        14.5 Interrupted\n",
      " test mse: 9.32496e-05\n",
      "test rmse: 0.00965659\n",
      " test std: 0.00965639720152\n"
     ]
    }
   ],
   "source": [
    "x, y, P, MSE, sess = run_conv(hidden_width=50, filter_size=50, epochs=40, batch_size=100, save_dist=2)\n",
    "run_test(x, y, P, MSE, sess, run_name='conv_no_mid_hw50_fs50')"
   ]
  }
 ],
 "metadata": {
  "anaconda-cloud": {},
  "kernelspec": {
   "display_name": "Python [Root]",
   "language": "python",
   "name": "Python [Root]"
  },
  "language_info": {
   "codemirror_mode": {
    "name": "ipython",
    "version": 3
   },
   "file_extension": ".py",
   "mimetype": "text/x-python",
   "name": "python",
   "nbconvert_exporter": "python",
   "pygments_lexer": "ipython3",
   "version": "3.5.2"
  }
 },
 "nbformat": 4,
 "nbformat_minor": 0
}
