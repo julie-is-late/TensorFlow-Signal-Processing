{
 "cells": [
  {
   "cell_type": "code",
   "execution_count": 1,
   "metadata": {
    "collapsed": false
   },
   "outputs": [],
   "source": [
    "import tensorflow as tf\n",
    "\n",
    "from lowpass import lowpass\n",
    "from runner import run"
   ]
  },
  {
   "cell_type": "code",
   "execution_count": 73,
   "metadata": {
    "collapsed": false,
    "scrolled": true
   },
   "outputs": [
    {
     "name": "stdout",
     "output_type": "stream",
     "text": [
      "(?, ?, ?, ?)\n"
     ]
    }
   ],
   "source": [
    "filter_size = 500\n",
    "layer_width = 50\n",
    "\n",
    "std = 0.1\n",
    "alpha = 0.00001\n",
    "\n",
    "input_set, output_set, valid_in_batches, valid_out_batches, train_ref_std = lowpass()\n",
    "\n",
    "# reshape with channels\n",
    "input_set = input_set.reshape(-1, input_set.shape[1], 1)\n",
    "output_set = output_set.reshape(-1, output_set.shape[1], 1)\n",
    "valid_in_batches = valid_in_batches.reshape(-1, valid_in_batches.shape[1], 1)\n",
    "valid_out_batches = valid_out_batches.reshape(-1, valid_out_batches.shape[1], 1)\n",
    "\n",
    "### GEN LAYERS\n",
    "x = tf.placeholder(tf.float32, shape=[None, input_set.shape[1], 1], name='x')\n",
    "x = tf.expand_dims(x, 1)\n",
    "y = tf.placeholder(tf.float32, shape=[None, output_set.shape[1], 1], name='y')\n",
    "y = tf.expand_dims(y, 1)\n",
    "\n",
    "w0 = tf.Variable(tf.truncated_normal([1, filter_size, 1, layer_width], stddev=std), name='w0')\n",
    "b0 = tf.Variable(tf.truncated_normal([layer_width], stddev=std), name='b0')\n",
    "conv_0 = tf.nn.conv2d(x, w0, strides=[1,1,1,1], padding='SAME')\n",
    "lay0 = conv_0 + b0\n",
    "lay0 = tf.nn.relu(lay0)\n",
    "\n",
    "w1 = tf.Variable(tf.truncated_normal([layer_width], stddev=std), name='w1')\n",
    "b1 = tf.Variable(tf.truncated_normal([layer_width], stddev=std), name='b1')\n",
    "lay1 = lay0 * w1 + b1\n",
    "lay1 = tf.nn.relu(lay1)\n",
    "\n",
    "dyn_input_shape = tf.shape(x)\n",
    "batch_size = dyn_input_shape[0]\n",
    "\n",
    "w2 = tf.Variable(tf.truncated_normal([1, filter_size, 1, layer_width], stddev=std), name='w2')\n",
    "b2 = tf.Variable(tf.truncated_normal([1, 1], stddev=std), name='b2')\n",
    "conv_2 = tf.nn.conv2d_transpose(lay1, w2, output_shape=tf.pack([batch_size, 1, output_set.shape[1], 1]), strides=[1,1,1,1], padding='SAME')\n",
    "lay2 = conv_2 + b2\n",
    "\n",
    "P = tf.squeeze(lay2) # drop size 1 dim (channels)\n",
    "\n",
    "MSE = tf.reduce_mean(tf.square(lay2 - y))\n",
    "L2 = alpha * (tf.nn.l2_loss(w0) + 0 + tf.nn.l2_loss(w2))\n",
    "\n",
    "optimizer = tf.train.AdamOptimizer().minimize(MSE + L2)\n",
    "\n",
    "global_step = tf.Variable(0, name='global_step', trainable=False)\n",
    "\n",
    "sess = tf.Session()\n",
    "sess.run(tf.initialize_all_variables())"
   ]
  },
  {
   "cell_type": "code",
   "execution_count": null,
   "metadata": {
    "collapsed": true
   },
   "outputs": [],
   "source": []
  },
  {
   "cell_type": "code",
   "execution_count": null,
   "metadata": {
    "collapsed": true
   },
   "outputs": [],
   "source": []
  },
  {
   "cell_type": "code",
   "execution_count": 8,
   "metadata": {
    "collapsed": false
   },
   "outputs": [
    {
     "data": {
      "text/html": [
       "<style>.container { width:100% !important; }</style>"
      ],
      "text/plain": [
       "<IPython.core.display.HTML object>"
      ]
     },
     "metadata": {},
     "output_type": "display_data"
    }
   ],
   "source": [
    "from IPython.core.display import display, HTML\n",
    "display(HTML(\"<style>.container { width:100% !important; }</style>\"))"
   ]
  }
 ],
 "metadata": {
  "anaconda-cloud": {},
  "kernelspec": {
   "display_name": "Python [Root]",
   "language": "python",
   "name": "Python [Root]"
  },
  "language_info": {
   "codemirror_mode": {
    "name": "ipython",
    "version": 3
   },
   "file_extension": ".py",
   "mimetype": "text/x-python",
   "name": "python",
   "nbconvert_exporter": "python",
   "pygments_lexer": "ipython3",
   "version": "3.5.2"
  }
 },
 "nbformat": 4,
 "nbformat_minor": 0
}
