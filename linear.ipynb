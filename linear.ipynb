{
 "cells": [
  {
   "cell_type": "code",
   "execution_count": 1,
   "metadata": {
    "collapsed": false,
    "scrolled": true
   },
   "outputs": [],
   "source": [
    "from linear import run_lin\n",
    "from non_linear import run_nonlin\n",
    "from conv import run_conv"
   ]
  },
  {
   "cell_type": "markdown",
   "metadata": {},
   "source": [
    "## linear"
   ]
  },
  {
   "cell_type": "code",
   "execution_count": 2,
   "metadata": {
    "collapsed": false,
    "scrolled": true
   },
   "outputs": [
    {
     "name": "stdout",
     "output_type": "stream",
     "text": [
      "restoring network from: ./tmp/lowpass/linear/2000/model.ckpt\n",
      "starting from epoch: 4000\n",
      "\n",
      "\t                         mse                    rmse                                 std            \n",
      "\t        training  validation    training  validation    training  validation   reference     runtime\n",
      "epoch: 4000      0.00419     0.00227     0.06472     0.04761     0.06502     0.04762     0.10262        -1.0\n"
     ]
    }
   ],
   "source": [
    "run_lin(2000, 4000)"
   ]
  },
  {
   "cell_type": "code",
   "execution_count": 3,
   "metadata": {
    "collapsed": false,
    "scrolled": true
   },
   "outputs": [
    {
     "name": "stdout",
     "output_type": "stream",
     "text": [
      "restoring network from: ./tmp/lowpass/linear/1000/model.ckpt\n",
      "starting from epoch: 4000\n",
      "\n",
      "\t                         mse                    rmse                                 std            \n",
      "\t        training  validation    training  validation    training  validation   reference     runtime\n",
      "epoch: 4000      0.00306     0.00429     0.05527     0.06548     0.05570     0.06549     0.11196        -1.0\n"
     ]
    }
   ],
   "source": [
    "run_lin(1000, 4000)"
   ]
  },
  {
   "cell_type": "code",
   "execution_count": 9,
   "metadata": {
    "collapsed": false,
    "scrolled": false
   },
   "outputs": [
    {
     "name": "stdout",
     "output_type": "stream",
     "text": [
      "restoring network from: ./tmp/lowpass/linear/500/model.ckpt\n",
      "starting from epoch: 4000\n",
      "\n",
      "\t                         mse                    rmse                                 std            \n",
      "\t        training  validation    training  validation    training  validation   reference     runtime\n",
      "epoch: 4000      0.00334     0.00452     0.05776     0.06720     0.05803     0.06721     0.11230        -1.0\n"
     ]
    }
   ],
   "source": [
    "run_lin(500, 4000)"
   ]
  },
  {
   "cell_type": "markdown",
   "metadata": {},
   "source": [
    "--------------"
   ]
  },
  {
   "cell_type": "markdown",
   "metadata": {},
   "source": [
    "## non-linear"
   ]
  },
  {
   "cell_type": "code",
   "execution_count": 8,
   "metadata": {
    "collapsed": false,
    "scrolled": false
   },
   "outputs": [
    {
     "name": "stdout",
     "output_type": "stream",
     "text": [
      "restoring network from: ./tmp/lowpass/nonlinear/500/model.ckpt\n",
      "starting from epoch: 8000\n",
      "\n",
      "\t                         mse                    rmse                                 std            \n",
      "\t        training  validation    training  validation    training  validation   reference     runtime\n",
      "epoch: 8000      0.00558     0.00299     0.07467     0.05467     0.07505     0.05468     0.10128        -1.0\n"
     ]
    }
   ],
   "source": [
    "run_nonlin(500, 8000)"
   ]
  },
  {
   "cell_type": "code",
   "execution_count": 4,
   "metadata": {
    "collapsed": false
   },
   "outputs": [
    {
     "name": "stdout",
     "output_type": "stream",
     "text": [
      "restoring network from: ./tmp/lowpass/nonlinear/1000/model.ckpt\n",
      "starting from epoch: 4000\n",
      "\n",
      "\t                         mse                    rmse                                 std            \n",
      "\t        training  validation    training  validation    training  validation   reference     runtime\n",
      "epoch: 4000      0.00480     0.00314     0.06926     0.05608     0.06959     0.05608     0.11188        -1.0\n"
     ]
    }
   ],
   "source": [
    "run_nonlin(1000, 4000)"
   ]
  },
  {
   "cell_type": "markdown",
   "metadata": {},
   "source": [
    "----"
   ]
  },
  {
   "cell_type": "code",
   "execution_count": 8,
   "metadata": {
    "collapsed": false
   },
   "outputs": [
    {
     "data": {
      "text/html": [
       "<style>.container { width:100% !important; }</style>"
      ],
      "text/plain": [
       "<IPython.core.display.HTML object>"
      ]
     },
     "metadata": {},
     "output_type": "display_data"
    }
   ],
   "source": [
    "from IPython.core.display import display, HTML\n",
    "display(HTML(\"<style>.container { width:100% !important; }</style>\"))"
   ]
  }
 ],
 "metadata": {
  "anaconda-cloud": {},
  "kernelspec": {
   "display_name": "Python [Root]",
   "language": "python",
   "name": "Python [Root]"
  },
  "language_info": {
   "codemirror_mode": {
    "name": "ipython",
    "version": 3
   },
   "file_extension": ".py",
   "mimetype": "text/x-python",
   "name": "python",
   "nbconvert_exporter": "python",
   "pygments_lexer": "ipython3",
   "version": "3.5.2"
  }
 },
 "nbformat": 4,
 "nbformat_minor": 0
}
