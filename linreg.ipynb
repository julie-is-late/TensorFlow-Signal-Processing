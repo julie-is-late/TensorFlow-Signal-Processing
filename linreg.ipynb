{
 "cells": [
  {
   "cell_type": "code",
   "execution_count": 1,
   "metadata": {
    "collapsed": false
   },
   "outputs": [],
   "source": [
    "import numpy as np\n",
    "from audio_batch import batch_audio, get_valid\n",
    "from reg_nn import reg_nn"
   ]
  },
  {
   "cell_type": "code",
   "execution_count": 2,
   "metadata": {
    "collapsed": false
   },
   "outputs": [],
   "source": [
    "sin_pre = np.load('./data/lowpass/pre/sin.npz')['data']\n",
    "sin_post = np.load('./data/lowpass/post/sin.npz')['data']"
   ]
  },
  {
   "cell_type": "code",
   "execution_count": 3,
   "metadata": {
    "collapsed": false,
    "scrolled": true
   },
   "outputs": [
    {
     "name": "stdout",
     "output_type": "stream",
     "text": [
      "audio shapes should match: (2, 1228496) (2, 1228496)\n"
     ]
    }
   ],
   "source": [
    "print('audio shapes should match:', sin_pre.shape, sin_post.shape)"
   ]
  },
  {
   "cell_type": "code",
   "execution_count": 4,
   "metadata": {
    "collapsed": true
   },
   "outputs": [],
   "source": [
    "set_in = np.concatenate([sin_pre[0], sin_pre[1]])\n",
    "set_out = np.concatenate([sin_post[0], sin_post[1]])"
   ]
  },
  {
   "cell_type": "code",
   "execution_count": 5,
   "metadata": {
    "collapsed": false
   },
   "outputs": [],
   "source": [
    "train_in, train_out, valid_in, valid_out = get_valid(set_in, set_out, 1, .25)"
   ]
  },
  {
   "cell_type": "code",
   "execution_count": 6,
   "metadata": {
    "collapsed": false,
    "scrolled": true
   },
   "outputs": [
    {
     "data": {
      "text/plain": [
       "True"
      ]
     },
     "execution_count": 6,
     "metadata": {},
     "output_type": "execute_result"
    }
   ],
   "source": [
    "train_in.shape[0] + valid_in.shape[0] == train_out.shape[0] + valid_out.shape[0] == set_in.shape[0] == set_out.shape[0]"
   ]
  },
  {
   "cell_type": "code",
   "execution_count": 23,
   "metadata": {
    "collapsed": true
   },
   "outputs": [],
   "source": [
    "input_set, output_set = batch_audio(train_in, train_out, .5, offset=.1)"
   ]
  },
  {
   "cell_type": "code",
   "execution_count": 24,
   "metadata": {
    "collapsed": false
   },
   "outputs": [],
   "source": [
    "valid_in_batches  = valid_in.reshape(int(valid_in.shape[0] / input_set.shape[1]), input_set.shape[1])\n",
    "valid_out_batches = valid_out.reshape(int(valid_out.shape[0] / output_set.shape[1]), output_set.shape[1])"
   ]
  },
  {
   "cell_type": "code",
   "execution_count": 25,
   "metadata": {
    "collapsed": false
   },
   "outputs": [],
   "source": [
    "sess, optimizer, x, y, P, MSE = reg_nn(input_set.shape[1], output_set.shape[1], 8, 1024)"
   ]
  },
  {
   "cell_type": "code",
   "execution_count": null,
   "metadata": {
    "collapsed": false,
    "scrolled": true
   },
   "outputs": [
    {
     "name": "stdout",
     "output_type": "stream",
     "text": [
      "0 0 0.00709292 0.0842141566275 0.0163611 0.127909\n",
      "0 10 0.0072039 0.0848705163151 0.0163462 0.127851\n",
      "0 20 0.018109 0.134567146744 0.0163311 0.127792\n",
      "0 30 0.0108993 0.104369715716 0.016316 0.127733\n",
      "0 40 0.00859603 0.0927099127283 0.0163008 0.127673\n",
      "0 50 0.0070088 0.0837132616303 0.0162854 0.127613\n",
      "0 60 0.0169531 0.130202853178 0.0162699 0.127552\n",
      "0 70 0.00697839 0.0835314841403 0.0162543 0.127491\n",
      "0 80 0.0173016 0.131507883079 0.0162386 0.127429\n",
      "0 90 0.00759421 0.0871397384692 0.0162228 0.127367\n",
      "0 100 0.00955776 0.0977144828172 0.0162069 0.127305\n",
      "0 110 0.0102516 0.101245939442 0.0161909 0.127242\n",
      "0 120 0.0175726 0.132560136725 0.0161748 0.127179\n",
      "0 130 0.0173114 0.131570658076 0.0161587 0.127115\n",
      "0 140 0.0177504 0.133224744773 0.0161425 0.127051\n",
      "0 150 0.0081741 0.0904059300778 0.0161262 0.126987\n",
      "0 160 0.0370781 0.192554861396 0.0161098 0.126923\n",
      "0 170 0.00682095 0.0825837687198 0.0160933 0.126858\n",
      "0 180 0.026165 0.161753298741 0.0160766 0.126792\n",
      "0 190 0.00844575 0.0918960793521 0.0160598 0.126726\n",
      "0 200 0.0149349 0.122203693773 0.016043 0.12666\n",
      "0 210 0.0177666 0.133289140213 0.0160261 0.126593\n",
      "0 220 0.0172763 0.131432481905 0.0160091 0.126526\n",
      "0 230 0.00932971 0.0965633769849 0.015992 0.126458\n",
      "0 240 0.0173657 0.131770135505 0.0159747 0.12639\n",
      "0 250 0.0254053 0.159388229583 0.0159575 0.126322\n",
      "0 260 0.0194825 0.139577193822 0.0159401 0.126253\n",
      "0 270 0.0066511 0.0815491484226 0.0159227 0.126184\n",
      "0 280 0.0173358 0.131665433752 0.0159052 0.126115\n",
      "0 290 0.00667742 0.0817103980528 0.0158876 0.126045\n",
      "0 300 0.0154174 0.124163899878 0.0158698 0.125974\n"
     ]
    }
   ],
   "source": [
    "epochs = 3\n",
    "\n",
    "for i in range(epochs):\n",
    "    perm = np.random.permutation(input_set.shape[0])\n",
    "\n",
    "    for batch in np.arange(len(perm)):\n",
    "        x_batch = input_set[perm[batch]]\n",
    "        y_batch = output_set[perm[batch]]\n",
    "        (_, mse_train, p_train) = sess.run([optimizer, MSE, P],feed_dict={x:[x_batch],y:[y_batch]})\n",
    "        (mse_valid, p_valid)    = sess.run([MSE,P],feed_dict={x:valid_in_batches,y:valid_out_batches})\n",
    "        if (batch % 10 == 0):\n",
    "            print(i, batch, mse_train, (y_batch - p_train).std(), mse_valid, (valid_out_batches - p_valid).std())\n",
    "        \n",
    "print(batch, mse_train, (y_batch.mean() - p_train.mean()).std(), mse_valid, (valid_out_batches.mean() - p_valid.mean()).std())"
   ]
  },
  {
   "cell_type": "code",
   "execution_count": null,
   "metadata": {
    "collapsed": true
   },
   "outputs": [],
   "source": []
  }
 ],
 "metadata": {
  "anaconda-cloud": {},
  "kernelspec": {
   "display_name": "Python [Root]",
   "language": "python",
   "name": "Python [Root]"
  },
  "language_info": {
   "codemirror_mode": {
    "name": "ipython",
    "version": 3
   },
   "file_extension": ".py",
   "mimetype": "text/x-python",
   "name": "python",
   "nbconvert_exporter": "python",
   "pygments_lexer": "ipython3",
   "version": "3.5.2"
  }
 },
 "nbformat": 4,
 "nbformat_minor": 0
}
