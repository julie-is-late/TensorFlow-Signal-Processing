{
 "cells": [
  {
   "cell_type": "code",
   "execution_count": 1,
   "metadata": {
    "collapsed": false,
    "scrolled": true
   },
   "outputs": [],
   "source": [
    "from linear import run_lin\n",
    "from non_linear import run_nonlin\n",
    "from conv import run_conv\n",
    "\n",
    "from test import run_test"
   ]
  },
  {
   "cell_type": "markdown",
   "metadata": {},
   "source": [
    "## linear"
   ]
  },
  {
   "cell_type": "code",
   "execution_count": 2,
   "metadata": {
    "collapsed": false,
    "scrolled": false
   },
   "outputs": [
    {
     "name": "stdout",
     "output_type": "stream",
     "text": [
      "restoring network from: ./tmp/lowpass/linear/2000/model.ckpt\n",
      "starting from epoch: 4000\n",
      "\n",
      "\t                         mse                    rmse                                 std            \n",
      "\t        training  validation    training  validation    training  validation   reference     runtime\n",
      "epoch: 4000      0.00419     0.00227     0.06472     0.04761     0.06502     0.04762     0.10262        -1.0\n"
     ]
    }
   ],
   "source": [
    "run_lin(2000, 4000)"
   ]
  },
  {
   "cell_type": "code",
   "execution_count": 3,
   "metadata": {
    "collapsed": false,
    "scrolled": true
   },
   "outputs": [
    {
     "name": "stdout",
     "output_type": "stream",
     "text": [
      "restoring network from: ./tmp/lowpass/linear/1000/model.ckpt\n",
      "starting from epoch: 4000\n",
      "\n",
      "\t                         mse                    rmse                                 std            \n",
      "\t        training  validation    training  validation    training  validation   reference     runtime\n",
      "epoch: 4000      0.00342     0.00327     0.05847     0.05722     0.05885     0.05723     0.10412        -1.0\n",
      " test mse: 0.00118764\n",
      "test rmse: 0.0344621\n",
      " test std: 0.0344703680322\n"
     ]
    }
   ],
   "source": [
    "x, y, P, MSE, sess = run_lin(1000, 4000)\n",
    "run_test(x, y, P, MSE, sess, run_name='best_linear')"
   ]
  },
  {
   "cell_type": "code",
   "execution_count": 9,
   "metadata": {
    "collapsed": false,
    "scrolled": false
   },
   "outputs": [
    {
     "name": "stdout",
     "output_type": "stream",
     "text": [
      "restoring network from: ./tmp/lowpass/linear/500/model.ckpt\n",
      "starting from epoch: 4000\n",
      "\n",
      "\t                         mse                    rmse                                 std            \n",
      "\t        training  validation    training  validation    training  validation   reference     runtime\n",
      "epoch: 4000      0.00334     0.00452     0.05776     0.06720     0.05803     0.06721     0.11230        -1.0\n"
     ]
    }
   ],
   "source": [
    "run_lin(500, 4000)"
   ]
  },
  {
   "cell_type": "markdown",
   "metadata": {},
   "source": [
    "--------------"
   ]
  },
  {
   "cell_type": "markdown",
   "metadata": {},
   "source": [
    "## non-linear"
   ]
  },
  {
   "cell_type": "code",
   "execution_count": 8,
   "metadata": {
    "collapsed": false,
    "scrolled": false
   },
   "outputs": [
    {
     "name": "stdout",
     "output_type": "stream",
     "text": [
      "restoring network from: ./tmp/lowpass/nonlinear/500/model.ckpt\n",
      "starting from epoch: 8000\n",
      "\n",
      "\t                         mse                    rmse                                 std            \n",
      "\t        training  validation    training  validation    training  validation   reference     runtime\n",
      "epoch: 8000      0.00558     0.00299     0.07467     0.05467     0.07505     0.05468     0.10128        -1.0\n"
     ]
    }
   ],
   "source": [
    "run_nonlin(500, 8000)"
   ]
  },
  {
   "cell_type": "code",
   "execution_count": 4,
   "metadata": {
    "collapsed": false,
    "scrolled": true
   },
   "outputs": [
    {
     "name": "stdout",
     "output_type": "stream",
     "text": [
      "restoring network from: ./tmp/lowpass/nonlinear/1000/model.ckpt\n",
      "starting from epoch: 4000\n",
      "\n",
      "\t                         mse                    rmse                                 std            \n",
      "\t        training  validation    training  validation    training  validation   reference     runtime\n",
      "epoch: 4000      0.00468     0.00374     0.06840     0.06113     0.06872     0.06114     0.10136        -1.0\n",
      " test mse: 0.00143764\n",
      "test rmse: 0.0379162\n",
      " test std: 0.0379208421829\n"
     ]
    }
   ],
   "source": [
    "x, y, P, MSE, sess = run_nonlin(1000, 4000)\n",
    "run_test(x, y, P, MSE, sess, run_name='best_non_lin')"
   ]
  },
  {
   "cell_type": "markdown",
   "metadata": {},
   "source": [
    "----"
   ]
  },
  {
   "cell_type": "markdown",
   "metadata": {},
   "source": [
    "## convolution"
   ]
  },
  {
   "cell_type": "code",
   "execution_count": 6,
   "metadata": {
    "collapsed": false,
    "scrolled": true
   },
   "outputs": [
    {
     "name": "stdout",
     "output_type": "stream",
     "text": [
      "restoring network from: ./tmp/lowpass/convolution/50/50/model.ckpt\n",
      "starting from epoch: 40\n",
      "\n",
      "\t                         mse                    rmse                                 std            \n",
      "\t        training  validation    training  validation    training  validation   reference     runtime\n",
      "epoch:   40      0.00006     0.00006     0.00746     0.00746     0.00749     0.00746     0.11379        -1.0\n",
      " test mse: 3.22242e-05\n",
      "test rmse: 0.00567663\n",
      " test std: 0.00567488152515\n"
     ]
    }
   ],
   "source": [
    "## OLD -> from when i was using different filter vars for convolutions\n",
    "x, y, P, MSE, sess = run_conv(hidden_width=50, filter_size=50, epochs=40, batch_size=100, save_dist=2)\n",
    "run_test(x, y, P, MSE, sess, run_name='conv_hw50_fs50')"
   ]
  },
  {
   "cell_type": "code",
   "execution_count": null,
   "metadata": {
    "collapsed": false
   },
   "outputs": [
    {
     "name": "stdout",
     "output_type": "stream",
     "text": [
      "starting from epoch: 0\n",
      "\n",
      "\t                         mse                    rmse                                 std             \n",
      "\t        training  validation    training  validation    training  validation   reference     runtime \n",
      "epoch:    0      0.05295     0.05135     0.23012     0.22660     0.10484     0.09390     0.11060         0.0\n",
      " test mse: 0.0427938\n",
      "test rmse: 0.206867\n",
      " test std: 0.0379707431233\n",
      "\n",
      "starting from epoch: 0\n",
      "\n",
      "\t                         mse                    rmse                                 std             \n",
      "\t        training  validation    training  validation    training  validation   reference     runtime \n",
      "epoch:    5      0.00365     0.00401     0.06044     0.06330     0.06054     0.06331     0.09894         2.8\n",
      " test mse: 0.000380048\n",
      "test rmse: 0.0194948\n",
      " test std: 0.0176446274307\n",
      "\n",
      "restoring network from: ./tmp/lowpass/convolution/50/50/model.ckpt\n",
      "starting from epoch: 5\n",
      "\n",
      "\t                         mse                    rmse                                 std             \n",
      "\t        training  validation    training  validation    training  validation   reference     runtime \n",
      "epoch:   10      0.00330     0.00140     0.05749     0.03737     0.05787     0.03724     0.11188         4.9\n",
      " test mse: 0.000185931\n",
      "test rmse: 0.0136357\n",
      " test std: 0.0135928917472\n",
      "\n",
      "restoring network from: ./tmp/lowpass/convolution/50/50/model.ckpt\n",
      "starting from epoch: 10\n",
      "\n",
      "\t                         mse                    rmse                                 std             \n",
      "\t        training  validation    training  validation    training  validation   reference     runtime \n",
      "epoch:   15      0.00231     0.00288     0.04804     0.05363     0.04830     0.05364     0.10349         7.1\n",
      " test mse: 0.00016637\n",
      "test rmse: 0.0128984\n",
      " test std: 0.0125340651791\n",
      "\n",
      "restoring network from: ./tmp/lowpass/convolution/50/50/model.ckpt\n",
      "starting from epoch: 15\n"
     ]
    }
   ],
   "source": [
    "for max_epoch in range(0, 50, 5):\n",
    "    x, y, P, MSE, sess = run_conv(hidden_width=50, filter_size=50, epochs=max_epoch, batch_size=100, save_dist=5)\n",
    "    run_test(x, y, P, MSE, sess, run_name='conv_epoch=%d' % max_epoch)\n",
    "    print()"
   ]
  },
  {
   "cell_type": "markdown",
   "metadata": {},
   "source": [
    "------"
   ]
  },
  {
   "cell_type": "code",
   "execution_count": 8,
   "metadata": {
    "collapsed": false
   },
   "outputs": [
    {
     "data": {
      "text/html": [
       "<style>.container { width:100% !important; }</style>"
      ],
      "text/plain": [
       "<IPython.core.display.HTML object>"
      ]
     },
     "metadata": {},
     "output_type": "display_data"
    }
   ],
   "source": [
    "from IPython.core.display import display, HTML\n",
    "display(HTML(\"<style>.container { width:100% !important; }</style>\"))"
   ]
  }
 ],
 "metadata": {
  "anaconda-cloud": {},
  "kernelspec": {
   "display_name": "Python [Root]",
   "language": "python",
   "name": "Python [Root]"
  },
  "language_info": {
   "codemirror_mode": {
    "name": "ipython",
    "version": 3
   },
   "file_extension": ".py",
   "mimetype": "text/x-python",
   "name": "python",
   "nbconvert_exporter": "python",
   "pygments_lexer": "ipython3",
   "version": "3.5.2"
  }
 },
 "nbformat": 4,
 "nbformat_minor": 0
}
