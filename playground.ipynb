{
 "cells": [
  {
   "cell_type": "code",
   "execution_count": 1,
   "metadata": {
    "collapsed": false,
    "scrolled": true
   },
   "outputs": [],
   "source": [
    "from linear import run_lin\n",
    "from non_linear import run_nonlin\n",
    "from conv import run_conv\n",
    "\n",
    "from test import run_test"
   ]
  },
  {
   "cell_type": "markdown",
   "metadata": {},
   "source": [
    "## linear"
   ]
  },
  {
   "cell_type": "code",
   "execution_count": 3,
   "metadata": {
    "collapsed": false,
    "scrolled": true
   },
   "outputs": [
    {
     "name": "stdout",
     "output_type": "stream",
     "text": [
      "restoring network from: ./tmp/lowpass/linear/1000/model.ckpt\n",
      "starting from epoch: 4000\n",
      "\n",
      "\t                         mse                    rmse                                 std            \n",
      "\t        training  validation    training  validation    training  validation   reference     runtime\n",
      "epoch: 4000      0.00342     0.00327     0.05847     0.05722     0.05885     0.05723     0.10412        -1.0\n",
      " test mse: 0.00118764\n",
      "test rmse: 0.0344621\n",
      " test std: 0.0344703680322\n"
     ]
    }
   ],
   "source": [
    "x, y, P, MSE, sess = run_lin(1000, 4000)\n",
    "run_test(x, y, P, MSE, sess, run_name='best_linear')"
   ]
  },
  {
   "cell_type": "markdown",
   "metadata": {},
   "source": [
    "--------------"
   ]
  },
  {
   "cell_type": "markdown",
   "metadata": {},
   "source": [
    "## non-linear"
   ]
  },
  {
   "cell_type": "code",
   "execution_count": 2,
   "metadata": {
    "collapsed": false,
    "scrolled": true
   },
   "outputs": [
    {
     "name": "stdout",
     "output_type": "stream",
     "text": [
      "restoring network from: ./tmp/lowpass/nonlinear/1000/model.ckpt\n",
      "starting from epoch: 2\n",
      "\t                         mse                    rmse                                 std             \n",
      "\t        training  validation    training  validation    training  validation   reference     runtime ...\n",
      "epoch:    5      0.01884     0.02149     0.13727     0.14661     0.13772     0.14662     0.10946         0.5 .....\n",
      "epoch:   10      0.01724     0.01626     0.13131     0.12753     0.13178     0.12754     0.10946         1.6 .....\n",
      "epoch:   15      0.01592     0.01481     0.12618     0.12170     0.12668     0.12172     0.10946         2.7 .....\n",
      "epoch:   20      0.01489     0.01375     0.12202     0.11725     0.12254     0.11727     0.10946         3.8 \n",
      "\t                         mse                    rmse                                 std             \n",
      "\t        training  validation    training  validation    training  validation   reference     runtime \n",
      "epoch:   20      0.01489     0.01375     0.12202     0.11725     0.12254     0.11727     0.10946         3.8\n",
      " test mse: 0.00488164\n",
      "test rmse: 0.0698687\n",
      " test std: 0.0698763733389\n"
     ]
    }
   ],
   "source": [
    "epochs = 20\n",
    "x, y, P, MSE, sess = run_nonlin(1000, epochs, check_dist=5)\n",
    "run_test(x, y, P, MSE, sess, run_name='non_lin_epoch=%d' % epochs)"
   ]
  },
  {
   "cell_type": "markdown",
   "metadata": {},
   "source": [
    "----"
   ]
  },
  {
   "cell_type": "markdown",
   "metadata": {},
   "source": [
    "## convolution"
   ]
  },
  {
   "cell_type": "code",
   "execution_count": 6,
   "metadata": {
    "collapsed": false,
    "scrolled": true
   },
   "outputs": [
    {
     "name": "stdout",
     "output_type": "stream",
     "text": [
      "restoring network from: ./tmp/lowpass/convolution/50/50/model.ckpt\n",
      "starting from epoch: 40\n",
      "\n",
      "\t                         mse                    rmse                                 std            \n",
      "\t        training  validation    training  validation    training  validation   reference     runtime\n",
      "epoch:   40      0.00006     0.00006     0.00746     0.00746     0.00749     0.00746     0.11379        -1.0\n",
      " test mse: 3.22242e-05\n",
      "test rmse: 0.00567663\n",
      " test std: 0.00567488152515\n"
     ]
    }
   ],
   "source": [
    "## OLD -> from when i was using different filter vars for convolutions\n",
    "x, y, P, MSE, sess = run_conv(hidden_width=50, filter_size=50, epochs=40, batch_size=100, save_dist=2)\n",
    "run_test(x, y, P, MSE, sess, run_name='conv_hw50_fs50')"
   ]
  },
  {
   "cell_type": "code",
   "execution_count": 3,
   "metadata": {
    "collapsed": false,
    "scrolled": false
   },
   "outputs": [
    {
     "name": "stdout",
     "output_type": "stream",
     "text": [
      "starting from epoch: 0\n",
      "\n",
      "\t                         mse                    rmse                                 std             \n",
      "\t        training  validation    training  validation    training  validation   reference     runtime \n",
      "epoch:    0      0.01625     0.01399     0.12748     0.11827     0.08833     0.07587     0.11131         0.0\n",
      " test mse: 0.00829977\n",
      "test rmse: 0.0911031\n",
      " test std: 0.027445545689\n",
      "starting from epoch: 0\n",
      ".....\n",
      "\t                         mse                    rmse                                 std             \n",
      "\t        training  validation    training  validation    training  validation   reference     runtime \n",
      "epoch:    5      0.00202     0.00542     0.04490     0.07361     0.04497     0.07355     0.09906         4.0\n",
      " test mse: 0.000214517\n",
      "test rmse: 0.0146464\n",
      " test std: 0.0137053161762\n",
      "restoring network from: ./tmp/lowpass/convolution/50/50/model.ckpt\n",
      "starting from epoch: 5\n",
      ".....\n",
      "\t                         mse                    rmse                                 std             \n",
      "\t        training  validation    training  validation    training  validation   reference     runtime \n",
      "epoch:   10      0.00253     0.00120     0.05026     0.03461     0.05052     0.03447     0.10856         7.9\n",
      " test mse: 0.000139492\n",
      "test rmse: 0.0118107\n",
      " test std: 0.0108668058817\n",
      "restoring network from: ./tmp/lowpass/convolution/50/50/model.ckpt\n",
      "starting from epoch: 10\n",
      ".....\n",
      "\t                         mse                    rmse                                 std             \n",
      "\t        training  validation    training  validation    training  validation   reference     runtime \n",
      "epoch:   15      0.00194     0.00235     0.04408     0.04844     0.04439     0.04842     0.10380        10.9\n",
      " test mse: 0.000104715\n",
      "test rmse: 0.010233\n",
      " test std: 0.0102382822478\n",
      "restoring network from: ./tmp/lowpass/convolution/50/50/model.ckpt\n",
      "starting from epoch: 15\n",
      ".....\n",
      "\t                         mse                    rmse                                 std             \n",
      "\t        training  validation    training  validation    training  validation   reference     runtime \n",
      "epoch:   20      0.00168     0.00280     0.04100     0.05291     0.04124     0.05290     0.10097        13.9\n",
      " test mse: 0.000112734\n",
      "test rmse: 0.0106176\n",
      " test std: 0.00992121479961\n",
      "restoring network from: ./tmp/lowpass/convolution/50/50/model.ckpt\n",
      "starting from epoch: 20\n",
      "\t                         mse                    rmse                                 std             \n",
      "\t        training  validation    training  validation    training  validation   reference     runtime .....\n",
      "epoch:   25      0.00183     0.00216     0.04276     0.04644     0.04295     0.04646     0.10356        16.9 .....\n",
      "epoch:   30      0.00180     0.00212     0.04244     0.04603     0.04261     0.04604     0.10356        21.2 \n",
      "\t                         mse                    rmse                                 std             \n",
      "\t        training  validation    training  validation    training  validation   reference     runtime \n",
      "epoch:   30      0.00180     0.00212     0.04244     0.04603     0.04261     0.04604     0.10356        21.2\n",
      " test mse: 9.16805e-05\n",
      "test rmse: 0.00957499\n",
      " test std: 0.00950527533185\n",
      "restoring network from: ./tmp/lowpass/convolution/50/50/model.ckpt\n",
      "starting from epoch: 30\n",
      "\t                         mse                    rmse                                 std             \n",
      "\t        training  validation    training  validation    training  validation   reference     runtime .....\n",
      "epoch:   35      0.00180     0.00209     0.04240     0.04574     0.04253     0.04573     0.10453        24.4 .....\n",
      "epoch:   40      0.00179     0.00208     0.04229     0.04556     0.04245     0.04556     0.10453        28.4 \n",
      "\t                         mse                    rmse                                 std             \n",
      "\t        training  validation    training  validation    training  validation   reference     runtime \n",
      "epoch:   40      0.00179     0.00208     0.04229     0.04556     0.04245     0.04556     0.10453        28.4\n",
      " test mse: 8.92737e-05\n",
      "test rmse: 0.00944848\n",
      " test std: 0.00944516642297\n",
      "restoring network from: ./tmp/lowpass/convolution/50/50/model.ckpt\n",
      "starting from epoch: 40\n",
      "\t                         mse                    rmse                                 std             \n",
      "\t        training  validation    training  validation    training  validation   reference     runtime .....\n",
      "epoch:   45      0.00154     0.00281     0.03925     0.05296     0.03940     0.05298     0.10946        31.6 .....\n",
      "epoch:   50      0.00153     0.00280     0.03918     0.05287     0.03933     0.05289     0.10946        35.7 \n",
      "\t                         mse                    rmse                                 std             \n",
      "\t        training  validation    training  validation    training  validation   reference     runtime \n",
      "epoch:   50      0.00153     0.00280     0.03918     0.05287     0.03933     0.05289     0.10946        35.7\n",
      " test mse: 9.09006e-05\n",
      "test rmse: 0.00953418\n",
      " test std: 0.00949598775392\n"
     ]
    }
   ],
   "source": [
    "for max_epoch in range(0, 20, 5):\n",
    "    x, y, P, MSE, sess = run_conv(hidden_width=50, filter_size=50, epochs=max_epoch, batch_size=100, save_dist=5)\n",
    "    run_test(x, y, P, MSE, sess, run_name='conv_epoch=%d' % max_epoch)\n",
    "\n",
    "for max_epoch in range(20, 51, 10):\n",
    "    x, y, P, MSE, sess = run_conv(hidden_width=50, filter_size=50, epochs=max_epoch, batch_size=100, save_dist=5)\n",
    "    run_test(x, y, P, MSE, sess, run_name='conv_epoch=%d' % max_epoch)"
   ]
  },
  {
   "cell_type": "markdown",
   "metadata": {},
   "source": [
    "------"
   ]
  },
  {
   "cell_type": "code",
   "execution_count": 8,
   "metadata": {
    "collapsed": false
   },
   "outputs": [
    {
     "data": {
      "text/html": [
       "<style>.container { width:100% !important; }</style>"
      ],
      "text/plain": [
       "<IPython.core.display.HTML object>"
      ]
     },
     "metadata": {},
     "output_type": "display_data"
    }
   ],
   "source": [
    "from IPython.core.display import display, HTML\n",
    "display(HTML(\"<style>.container { width:100% !important; }</style>\"))"
   ]
  }
 ],
 "metadata": {
  "anaconda-cloud": {},
  "kernelspec": {
   "display_name": "Python [Root]",
   "language": "python",
   "name": "Python [Root]"
  },
  "language_info": {
   "codemirror_mode": {
    "name": "ipython",
    "version": 3
   },
   "file_extension": ".py",
   "mimetype": "text/x-python",
   "name": "python",
   "nbconvert_exporter": "python",
   "pygments_lexer": "ipython3",
   "version": "3.5.2"
  }
 },
 "nbformat": 4,
 "nbformat_minor": 0
}
