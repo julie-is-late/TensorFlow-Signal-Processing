{
 "cells": [
  {
   "cell_type": "code",
   "execution_count": 39,
   "metadata": {
    "collapsed": true
   },
   "outputs": [],
   "source": [
    "import numpy as np\n",
    "\n",
    "from audio_batch import get_valid"
   ]
  },
  {
   "cell_type": "markdown",
   "metadata": {},
   "source": [
    "--------------"
   ]
  },
  {
   "cell_type": "code",
   "execution_count": 4,
   "metadata": {
    "collapsed": false,
    "scrolled": false
   },
   "outputs": [
    {
     "name": "stdout",
     "output_type": "stream",
     "text": [
      "..................................................\n",
      "valid_in is 0.013269% empty in the worst case\n"
     ]
    }
   ],
   "source": [
    "sin_pre = np.load('./data/lowpass/pre/sin.npz')['data']\n",
    "sqr_pre = np.load('./data/lowpass/pre/square.npz')['data']\n",
    "saw_pre = np.load('./data/lowpass/pre/plysaw.npz')['data']\n",
    "\n",
    "sin_post = np.load('./data/lowpass/post/sin.npz')['data']\n",
    "sqr_post = np.load('./data/lowpass/post/square.npz')['data']\n",
    "saw_post = np.load('./data/lowpass/post/plysaw.npz')['data']\n",
    "\n",
    "set_in = np.concatenate([sin_pre[0], sin_pre[1], sqr_pre[0], sqr_pre[1], saw_pre[0], saw_pre[1]])\n",
    "set_out = np.concatenate([sin_post[0], sin_post[1], sqr_post[0], sqr_post[1], saw_post[0], saw_post[1]])\n",
    "\n",
    "\n",
    "sets = []\n",
    "for j in range(50):\n",
    "    train_in, train_out, valid_in, valid_out = get_valid(set_in, set_out, 1, .25)\n",
    "\n",
    "    blank = []\n",
    "    for i in range(len(valid_in)):\n",
    "        if valid_in[i] == 0.0:\n",
    "            blank.append(i)\n",
    "\n",
    "    sets.append(len(blank) / len(valid_in))\n",
    "    print('.', end=\"\", flush=True)\n",
    "    \n",
    "print()\n",
    "print('valid_in is %f%% empty in the worst case' % (np.asarray(sets).max()))"
   ]
  },
  {
   "cell_type": "code",
   "execution_count": 8,
   "metadata": {
    "collapsed": false
   },
   "outputs": [
    {
     "data": {
      "text/html": [
       "<style>.container { width:100% !important; }</style>"
      ],
      "text/plain": [
       "<IPython.core.display.HTML object>"
      ]
     },
     "metadata": {},
     "output_type": "display_data"
    }
   ],
   "source": [
    "from IPython.core.display import display, HTML\n",
    "display(HTML(\"<style>.container { width:100% !important; }</style>\"))"
   ]
  }
 ],
 "metadata": {
  "anaconda-cloud": {},
  "kernelspec": {
   "display_name": "Python [Root]",
   "language": "python",
   "name": "Python [Root]"
  },
  "language_info": {
   "codemirror_mode": {
    "name": "ipython",
    "version": 3
   },
   "file_extension": ".py",
   "mimetype": "text/x-python",
   "name": "python",
   "nbconvert_exporter": "python",
   "pygments_lexer": "ipython3",
   "version": "3.5.2"
  }
 },
 "nbformat": 4,
 "nbformat_minor": 0
}
