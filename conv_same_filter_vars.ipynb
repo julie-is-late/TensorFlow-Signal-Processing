{
 "cells": [
  {
   "cell_type": "code",
   "execution_count": 2,
   "metadata": {
    "collapsed": true
   },
   "outputs": [],
   "source": [
    "import tensorflow as tf\n",
    "\n",
    "from lowpass import lowpass\n",
    "from runner import run\n",
    "from test import run_test"
   ]
  },
  {
   "cell_type": "code",
   "execution_count": 17,
   "metadata": {
    "collapsed": false
   },
   "outputs": [
    {
     "data": {
      "text/html": [
       "<style>.container { width:100% !important; }</style>"
      ],
      "text/plain": [
       "<IPython.core.display.HTML object>"
      ]
     },
     "metadata": {},
     "output_type": "display_data"
    }
   ],
   "source": [
    "from IPython.core.display import display, HTML\n",
    "display(HTML(\"<style>.container { width:100% !important; }</style>\"))"
   ]
  },
  {
   "cell_type": "code",
   "execution_count": 15,
   "metadata": {
    "collapsed": true
   },
   "outputs": [],
   "source": [
    "def gen_conv_same_filter_vars(layer_width, filter_size):\n",
    "    std = 0.1\n",
    "    alpha = 0.00001\n",
    "\n",
    "    input_set, output_set, valid_in_batches, valid_out_batches, train_ref_std = lowpass()\n",
    "\n",
    "    # reshape with channels\n",
    "    input_set = input_set.reshape(-1, input_set.shape[1], 1)\n",
    "    output_set = output_set.reshape(-1, output_set.shape[1], 1)\n",
    "    valid_in_batches = valid_in_batches.reshape(-1, valid_in_batches.shape[1], 1)\n",
    "    valid_out_batches = valid_out_batches.reshape(-1, valid_out_batches.shape[1], 1)\n",
    "\n",
    "\n",
    "    ### GEN LAYERS\n",
    "    x = tf.placeholder(tf.float32, shape=[None, input_set.shape[1], 1], name='x')\n",
    "    x_4 = tf.expand_dims(x, 1)\n",
    "    y = tf.placeholder(tf.float32, shape=[None, output_set.shape[1], 1], name='y')\n",
    "    y_4 = tf.expand_dims(y, 1)\n",
    "\n",
    "    w0 = tf.Variable(tf.truncated_normal([1, filter_size, 1, layer_width], stddev=std), name='w0')\n",
    "    b0 = tf.Variable(tf.truncated_normal([layer_width], stddev=std), name='b0')\n",
    "    conv_0 = tf.nn.conv2d(\n",
    "        x_4,\n",
    "        w0,\n",
    "        strides=[1,1,1,1],\n",
    "        padding='SAME')\n",
    "    lay0 = conv_0 + b0\n",
    "    lay0 = tf.nn.relu(lay0)\n",
    "\n",
    "    w1 = tf.Variable(tf.truncated_normal([layer_width], stddev=std), name='w1')\n",
    "    b1 = tf.Variable(tf.truncated_normal([layer_width], stddev=std), name='b1')\n",
    "    lay1 = lay0 * w1 + b1\n",
    "    lay1 = tf.nn.relu(lay1)\n",
    "\n",
    "    # required b/c conv2d_transpose does not infer None sized object's sizes at runtime, but we can cheat like this\n",
    "    dyn_input_shape = tf.shape(x_4)\n",
    "    batch_size = dyn_input_shape[0]\n",
    "\n",
    "#     w2 = tf.Variable(tf.truncated_normal([1, filter_size, 1, layer_width], stddev=std), name='w2')\n",
    "    b2 = tf.Variable(tf.truncated_normal([1, 1], stddev=std), name='b2')\n",
    "    conv_2 = tf.nn.conv2d_transpose(\n",
    "        lay1,\n",
    "        w0,\n",
    "        output_shape=tf.pack([batch_size, 1, output_set.shape[1], 1]),\n",
    "        strides=[1,1,1,1],\n",
    "        padding='SAME')\n",
    "    lay2 = conv_2 + b2\n",
    "\n",
    "\n",
    "    P = tf.squeeze(lay2) # drop size 1 dim (channels)\n",
    "\n",
    "    MSE = tf.reduce_mean(tf.square(lay2 - y_4))\n",
    "    L2 = alpha * (tf.nn.l2_loss(w0) + tf.nn.l2_loss(w1))\n",
    "\n",
    "    optimizer = tf.train.AdamOptimizer().minimize(MSE + L2)\n",
    "\n",
    "    global_step = tf.Variable(0, name='global_step', trainable=False)\n",
    "\n",
    "    saver = tf.train.Saver(\n",
    "        { \"w0\": w0,\n",
    "          \"b0\": b0,\n",
    "          \"w1\": w1,\n",
    "          \"b1\": b1,\n",
    "#           \"w2\": w2,\n",
    "#           \"b2\": b2,\n",
    "          \"global_step\": global_step})\n",
    "\n",
    "    return x, y, MSE, P, optimizer, global_step, saver, input_set, output_set, valid_in_batches, valid_out_batches, train_ref_std\n",
    "\n",
    "\n",
    "def run_conv(hidden_width, filter_size, epochs, batch_size=50, save_dist=None):\n",
    "    # oh god what have I done\n",
    "    x, y, MSE, P, optimizer, global_step, saver, input_set, output_set, valid_in_batches, valid_out_batches, train_ref_std = gen_conv_same_filter_vars(hidden_width, filter_size)\n",
    "    sess = tf.Session()\n",
    "    sess.run(tf.initialize_all_variables())\n",
    "    run(sess, x, y, MSE, P, optimizer, global_step, saver, input_set, output_set, valid_in_batches, valid_out_batches, train_ref_std, 'lowpass', 'convolution_same_filter_vars', hidden_width, epochs, batch_size=batch_size, extra=filter_size, check_dist=save_dist)\n",
    "    return x, y, P, MSE, sess"
   ]
  },
  {
   "cell_type": "code",
   "execution_count": 19,
   "metadata": {
    "collapsed": false,
    "scrolled": true
   },
   "outputs": [
    {
     "name": "stdout",
     "output_type": "stream",
     "text": [
      "starting from epoch: 0\n",
      "\t                         mse                    rmse                                 std            \n",
      "\t        training  validation    training  validation    training  validation   reference     runtime\n",
      ".....\n",
      "epoch:    5      0.00228     0.00587     0.04778     0.07661     0.04800     0.07662     0.09688         4.0 .....\n",
      "epoch:   10      0.00187     0.00506     0.04327     0.07112     0.04350     0.07114     0.09688         8.1 .....\n",
      "epoch:   15      0.00161     0.00437     0.04012     0.06612     0.04038     0.06613     0.09688        12.1 .....\n",
      "epoch:   20      0.00149     0.00403     0.03863     0.06350     0.03889     0.06351     0.09688        15.1 \n",
      "\t                         mse                    rmse                                 std            \n",
      "\t        training  validation    training  validation    training  validation   reference     runtime\n",
      "epoch:   20      0.00149     0.00403     0.03863     0.06350     0.03889     0.06351     0.09688        15.1\n",
      " test mse: 0.000125857\n",
      "test rmse: 0.0112186\n",
      " test std: 0.0112017653747\n"
     ]
    }
   ],
   "source": [
    "x, y, P, MSE, sess = run_conv(hidden_width=50, filter_size=50, epochs=20, batch_size=100, save_dist=5)\n",
    "run_test(x, y, P, MSE, sess, run_name='conv_same_filter_vars_hw50_fs50')"
   ]
  },
  {
   "cell_type": "code",
   "execution_count": null,
   "metadata": {
    "collapsed": true
   },
   "outputs": [],
   "source": []
  }
 ],
 "metadata": {
  "anaconda-cloud": {},
  "kernelspec": {
   "display_name": "Python [Root]",
   "language": "python",
   "name": "Python [Root]"
  },
  "language_info": {
   "codemirror_mode": {
    "name": "ipython",
    "version": 3
   },
   "file_extension": ".py",
   "mimetype": "text/x-python",
   "name": "python",
   "nbconvert_exporter": "python",
   "pygments_lexer": "ipython3",
   "version": "3.5.2"
  }
 },
 "nbformat": 4,
 "nbformat_minor": 0
}
